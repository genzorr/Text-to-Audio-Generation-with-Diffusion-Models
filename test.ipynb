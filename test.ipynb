{
 "cells": [
  {
   "cell_type": "code",
   "execution_count": 1,
   "metadata": {},
   "outputs": [
    {
     "name": "stderr",
     "output_type": "stream",
     "text": [
      "2023-05-26 07:41:25.337276: I tensorflow/core/util/port.cc:110] oneDNN custom operations are on. You may see slightly different numerical results due to floating-point round-off errors from different computation orders. To turn them off, set the environment variable `TF_ENABLE_ONEDNN_OPTS=0`.\n",
      "2023-05-26 07:41:25.365212: I tensorflow/core/platform/cpu_feature_guard.cc:182] This TensorFlow binary is optimized to use available CPU instructions in performance-critical operations.\n",
      "To enable the following instructions: AVX2 AVX512F AVX512_VNNI FMA, in other operations, rebuild TensorFlow with the appropriate compiler flags.\n",
      "2023-05-26 07:41:25.893075: W tensorflow/compiler/tf2tensorrt/utils/py_utils.cc:38] TF-TRT Warning: Could not find TensorRT\n"
     ]
    }
   ],
   "source": [
    "import argparse\n",
    "import os\n",
    "import sys\n",
    "\n",
    "import numpy as np\n",
    "import pytorch_lightning as pl\n",
    "import torch\n",
    "import torchvision\n",
    "\n",
    "# sys.path.append(\"../audiodiffusion/\")\n",
    "# print(sys.path)\n",
    "\n",
    "import audiodiffusion.mel as mel\n",
    "from librosa.util import normalize\n",
    "from omegaconf import OmegaConf\n",
    "from PIL import Image\n",
    "from pytorch_lightning.callbacks import Callback, ModelCheckpoint\n",
    "from pytorch_lightning.trainer import Trainer\n",
    "from pytorch_lightning.utilities.distributed import rank_zero_only\n",
    "from torch.utils.data import DataLoader, Dataset\n",
    "import librosa\n",
    "\n",
    "from audiodiffusion.utils import convert_ldm_to_hf_vae"
   ]
  },
  {
   "cell_type": "code",
   "execution_count": 2,
   "metadata": {},
   "outputs": [],
   "source": [
    "from tqdm.auto import tqdm"
   ]
  },
  {
   "cell_type": "code",
   "execution_count": 7,
   "metadata": {},
   "outputs": [
    {
     "data": {
      "application/vnd.jupyter.widget-view+json": {
       "model_id": "ad64133a0119497cbb8f672e913bf664",
       "version_major": 2,
       "version_minor": 0
      },
      "text/plain": [
       "  0%|          | 0/2893 [00:00<?, ?it/s]"
      ]
     },
     "metadata": {},
     "output_type": "display_data"
    }
   ],
   "source": [
    "mel_ = mel.Mel()\n",
    "input_folder = \"../project/data/development/\"\n",
    "output_folder = \"../project/data/development-mel/\"\n",
    "\n",
    "os.makedirs(output_folder, exist_ok=True)\n",
    "\n",
    "file_names = os.listdir(input_folder)\n",
    "\n",
    "for file_name in tqdm(file_names):\n",
    "    file_path = os.path.join(input_folder, file_name)\n",
    "\n",
    "    mel_.load_audio(file_path)\n",
    "    S = librosa.feature.melspectrogram(\n",
    "        y=mel_.audio,\n",
    "        sr=mel_.sr,\n",
    "        n_fft=mel_.n_fft,\n",
    "        hop_length=mel_.hop_length,\n",
    "        n_mels=mel_.n_mels,\n",
    "    )\n",
    "    log_S = librosa.power_to_db(S, ref=np.max, top_db=mel_.top_db)\n",
    "    bytedata = (\n",
    "        ((log_S + mel_.top_db) * 255 / mel_.top_db).clip(0, 255) + 0.5\n",
    "    ).astype(np.uint8)\n",
    "\n",
    "    image = bytedata.reshape((bytedata.shape[0], bytedata.shape[1], 1))\n",
    "    image = image[: mel_.x_res, : mel_.y_res, :]\n",
    "    image = (image / 255) * 2 - 1\n",
    "\n",
    "    output_path = os.path.join(output_folder, file_name + \".npy\")\n",
    "    np.save(output_path, image)"
   ]
  },
  {
   "cell_type": "code",
   "execution_count": 5,
   "metadata": {},
   "outputs": [],
   "source": [
    "mel_spec = np.load(\"../project/data/development-mel/04_Kirkenes_Round street crossing, quiet steps, car, birds, seagulls 1329.wav.npy\")"
   ]
  },
  {
   "cell_type": "code",
   "execution_count": 8,
   "metadata": {},
   "outputs": [
    {
     "data": {
      "text/plain": [
       "(256, 256, 1)"
      ]
     },
     "execution_count": 8,
     "metadata": {},
     "output_type": "execute_result"
    }
   ],
   "source": [
    "mel_spec.shape"
   ]
  },
  {
   "cell_type": "code",
   "execution_count": 10,
   "metadata": {},
   "outputs": [
    {
     "data": {
      "application/vnd.jupyter.widget-view+json": {
       "model_id": "c968b9fe9e3d420e824d52d2af38136f",
       "version_major": 2,
       "version_minor": 0
      },
      "text/plain": [
       "  0%|          | 0/2893 [00:00<?, ?it/s]"
      ]
     },
     "metadata": {},
     "output_type": "display_data"
    }
   ],
   "source": [
    "mel_folder = \"../project/data/development-mel/\"\n",
    "caption_folder = \"../project/data/development-latent/\"\n",
    "input_folder = \"../project/data/development/\"\n",
    "output_folder = \"../project/data/development-full/\"\n",
    "os.makedirs(output_folder, exist_ok=True)\n",
    "\n",
    "file_names = os.listdir(input_folder)\n",
    "for i, file_name in enumerate(tqdm(file_names)):\n",
    "    file_name_cropped = file_name.split(\".\")[0]\n",
    "\n",
    "    try:\n",
    "        mel_spec = np.load(os.path.join(mel_folder, file_name_cropped + \".wav.npy\"))\n",
    "        caption = np.load(os.path.join(caption_folder, file_name_cropped + \".npz\"))[\"text_embed\"]\n",
    "    except FileNotFoundError:\n",
    "        continue\n",
    "    \n",
    "    np.savez(os.path.join(output_folder, file_name_cropped + \".npz\"), image=mel_spec, text_embed=caption)"
   ]
  },
  {
   "cell_type": "code",
   "execution_count": null,
   "metadata": {},
   "outputs": [],
   "source": []
  }
 ],
 "metadata": {
  "kernelspec": {
   "display_name": ".venv",
   "language": "python",
   "name": "python3"
  },
  "language_info": {
   "codemirror_mode": {
    "name": "ipython",
    "version": 3
   },
   "file_extension": ".py",
   "mimetype": "text/x-python",
   "name": "python",
   "nbconvert_exporter": "python",
   "pygments_lexer": "ipython3",
   "version": "3.10.10"
  },
  "orig_nbformat": 4
 },
 "nbformat": 4,
 "nbformat_minor": 2
}
